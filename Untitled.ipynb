{
 "cells": [
  {
   "cell_type": "code",
   "execution_count": 23,
   "id": "e96b276c-8587-4a7b-bb0f-5826d3324ad4",
   "metadata": {},
   "outputs": [],
   "source": [
    "import pandas as pd\n"
   ]
  },
  {
   "cell_type": "code",
   "execution_count": 51,
   "id": "828e323f-7a90-450e-921a-fa37bde4b8e8",
   "metadata": {},
   "outputs": [],
   "source": [
    "# s1 = pd.Series([1,2,3,4,5,6,7,8,9])\n",
    "# s2 = pd.Series([5,10,15,20,25,30,35,40,45])\n",
    "# s1+5\n",
    "# s1/6\n",
    "# s1-5\n",
    "# s1*5\n",
    "# s1+s2\n",
    "# s1*s2\n",
    "# s1-s2\n",
    "# s1/s2\n",
    "data = pd.DataFrame({\"Name\":[\"Daniyal\",\"Ali\",\"Ahsan\",\"Aqib\",\"Dawood\",\"Hashir\",\"Maaz\",\"Jaffar\",\"Amjad\",\"Huzaifa\"],\"Marks\":[15,43,54,65,43,23,65,76,86,67]})\n",
    "# data.head()\n",
    "# data.tail()\n",
    "# data.shape\n",
    "# data.describe()\n",
    "# data.loc[0:5,(\"Name\",\"Marks\")]\n",
    "# data.drop(\"Marks\",axis=1)\n",
    "# data.drop([3,4,5],axis=0)\n",
    "# data.min()\n",
    "# data.max()\n",
    "# data.median()\n",
    "# data.mean()"
   ]
  },
  {
   "cell_type": "markdown",
   "id": "b5a05709-0c76-46f0-ba8b-b590bfb87bef",
   "metadata": {},
   "source": [
    " "
   ]
  },
  {
   "cell_type": "code",
   "execution_count": null,
   "id": "54be601d-6b99-4d3b-a066-bc8e2db2e65e",
   "metadata": {},
   "outputs": [],
   "source": []
  },
  {
   "cell_type": "code",
   "execution_count": null,
   "id": "54d9c368-1066-4442-a45c-d3c13c41e34b",
   "metadata": {},
   "outputs": [],
   "source": []
  },
  {
   "cell_type": "code",
   "execution_count": null,
   "id": "238e8470-3b04-4877-99e3-a7b7ebd99d51",
   "metadata": {},
   "outputs": [],
   "source": []
  }
 ],
 "metadata": {
  "kernelspec": {
   "display_name": "Python 3 (ipykernel)",
   "language": "python",
   "name": "python3"
  },
  "language_info": {
   "codemirror_mode": {
    "name": "ipython",
    "version": 3
   },
   "file_extension": ".py",
   "mimetype": "text/x-python",
   "name": "python",
   "nbconvert_exporter": "python",
   "pygments_lexer": "ipython3",
   "version": "3.12.4"
  }
 },
 "nbformat": 4,
 "nbformat_minor": 5
}
